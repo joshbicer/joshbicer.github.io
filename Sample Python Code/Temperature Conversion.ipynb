{
 "cells": [
  {
   "cell_type": "markdown",
   "metadata": {},
   "source": [
    "## Module 3 Assignment\n",
    "### Josh Bicer\n",
    "#### Conversion of List of Temperatures from Farenheit to Celsius using For Loop"
   ]
  },
  {
   "cell_type": "code",
   "execution_count": 4,
   "metadata": {},
   "outputs": [
    {
     "name": "stdout",
     "output_type": "stream",
     "text": [
      "56.2 degrees Fahrenheit is equivalent with 13.444444444444446 degrees Celsius.\n",
      "31.8 degrees Fahrenheit is equivalent with -0.11111111111111072 degrees Celsius.\n",
      "81.7 degrees Fahrenheit is equivalent with 27.61111111111111 degrees Celsius.\n",
      "45.6 degrees Fahrenheit is equivalent with 7.555555555555555 degrees Celsius.\n",
      "71.3 degrees Fahrenheit is equivalent with 21.833333333333332 degrees Celsius.\n",
      "62.9 degrees Fahrenheit is equivalent with 17.166666666666668 degrees Celsius.\n",
      "59.0 degrees Fahrenheit is equivalent with 15.0 degrees Celsius.\n",
      "92.5 degrees Fahrenheit is equivalent with 33.611111111111114 degrees Celsius.\n",
      "95.0 degrees Fahrenheit is equivalent with 35.0 degrees Celsius.\n",
      "19.2 degrees Fahrenheit is equivalent with -7.111111111111111 degrees Celsius.\n",
      "15.0 degrees Fahrenheit is equivalent with -9.444444444444445 degrees Celsius.\n"
     ]
    }
   ],
   "source": [
    "temps = [56.2,31.8,'x',81.7,45.6,71.3,'this is text',62.9,59.0,92.5,95.0,19.2,15.0]\n",
    "\n",
    "# for loop to iterate through each element of list 'temps'\n",
    "\n",
    "for temp in temps:\n",
    "    try:     # try conversion equation if element is numeric\n",
    "        celsius = (temp - 32.0) * 5/9\n",
    "        print(str(temp) + \" degrees Fahrenheit is equivalent with \" + str(celsius) + \" degrees Celsius.\")\n",
    "    except:\n",
    "        continue     # skip invalid data types and continue to next iteration"
   ]
  },
  {
   "cell_type": "code",
   "execution_count": null,
   "metadata": {},
   "outputs": [],
   "source": []
  }
 ],
 "metadata": {
  "kernelspec": {
   "display_name": "Python 3",
   "language": "python",
   "name": "python3"
  },
  "language_info": {
   "codemirror_mode": {
    "name": "ipython",
    "version": 3
   },
   "file_extension": ".py",
   "mimetype": "text/x-python",
   "name": "python",
   "nbconvert_exporter": "python",
   "pygments_lexer": "ipython3",
   "version": "3.8.8"
  }
 },
 "nbformat": 4,
 "nbformat_minor": 2
}
